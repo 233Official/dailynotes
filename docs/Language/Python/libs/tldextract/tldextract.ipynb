{
 "cells": [
  {
   "cell_type": "markdown",
   "id": "f948e791",
   "metadata": {},
   "source": [
    "# tldextract\n",
    "\n",
    "\n",
    "```bash\n",
    "poetry add tldextract -vvv\n",
    "```\n",
    "\n",
    "`tldextract` 是一个专门用于解析域名结构的Python库\n",
    "\n",
    "这个库的优势在于它能够正确处理复杂的域名结构，特别是对于国际化域名和多段式顶级域名的支持\n",
    "\n",
    "例如\n",
    "\n",
    "```python\n",
    "import tldextract\n",
    "\n",
    "# 解析普通域名\n",
    "extracted = tldextract.extract(\"www.example.com\")\n",
    "print(f\"子域名: {extracted.subdomain}\")  # 输出: 子域名: www\n",
    "print(f\"主域名: {extracted.domain}\")     # 输出: 主域名: example\n",
    "print(f\"顶级域: {extracted.suffix}\")     # 输出: 顶级域: com\n",
    "\n",
    "# 解析多段式顶级域名\n",
    "extracted = tldextract.extract(\"blog.example.co.uk\")\n",
    "print(f\"子域名: {extracted.subdomain}\")  # 输出: 子域名: blog\n",
    "print(f\"主域名: {extracted.domain}\")     # 输出: 主域名: example\n",
    "print(f\"顶级域: {extracted.suffix}\")     # 输出: 顶级域: co.uk\n",
    "```\n",
    "\n",
    "\n",
    "\n",
    "# tldextract\n",
    "\n",
    "\n",
    "```bash\n",
    "poetry add tldextract -vvv\n",
    "```\n",
    "\n",
    "`tldextract` 是一个专门用于解析域名结构的Python库\n",
    "\n",
    "这个库的优势在于它能够正确处理复杂的域名结构，特别是对于国际化域名和多段式顶级域名的支持\n",
    "\n",
    "例如\n"
   ]
  },
  {
   "cell_type": "code",
   "execution_count": 2,
   "metadata": {},
   "outputs": [
    {
     "name": "stdout",
     "output_type": "stream",
     "text": [
      "子域名: www\n",
      "主域名: example\n",
      "顶级域: com\n",
      "子域名: blog\n",
      "主域名: example\n",
      "顶级域: co.uk\n"
     ]
    }
   ],
   "source": [
    "import tldextract\n",
    "\n",
    "# 解析普通域名\n",
    "extracted = tldextract.extract(\"www.example.com\")\n",
    "print(f\"子域名: {extracted.subdomain}\")  # 输出: 子域名: www\n",
    "print(f\"主域名: {extracted.domain}\")     # 输出: 主域名: example\n",
    "print(f\"顶级域: {extracted.suffix}\")     # 输出: 顶级域: com\n",
    "\n",
    "# 解析多段式顶级域名\n",
    "extracted = tldextract.extract(\"blog.example.co.uk\")\n",
    "print(f\"子域名: {extracted.subdomain}\")  # 输出: 子域名: blog\n",
    "print(f\"主域名: {extracted.domain}\")     # 输出: 主域名: example\n",
    "print(f\"顶级域: {extracted.suffix}\")     # 输出: 顶级域: co.uk"
   ]
  }
 ],
 "metadata": {
  "kernelspec": {
   "display_name": ".venv",
   "language": "python",
   "name": "python3"
  },
  "language_info": {
   "codemirror_mode": {
    "name": "ipython",
    "version": 3
   },
   "file_extension": ".py",
   "mimetype": "text/x-python",
   "name": "python",
   "nbconvert_exporter": "python",
   "pygments_lexer": "ipython3",
   "version": "3.13.2"
  }
 },
 "nbformat": 4,
 "nbformat_minor": 5
}
